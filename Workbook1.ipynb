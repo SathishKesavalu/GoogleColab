{
  "nbformat": 4,
  "nbformat_minor": 0,
  "metadata": {
    "colab": {
      "provenance": [],
      "authorship_tag": "ABX9TyMOaJsRhaknhQWHlwkXvKTZ",
      "include_colab_link": true
    },
    "kernelspec": {
      "name": "python3",
      "display_name": "Python 3"
    },
    "language_info": {
      "name": "python"
    }
  },
  "cells": [
    {
      "cell_type": "markdown",
      "metadata": {
        "id": "view-in-github",
        "colab_type": "text"
      },
      "source": [
        "<a href=\"https://colab.research.google.com/github/SathishKesavalu/GoogleColab/blob/main/Workbook1.ipynb\" target=\"_parent\"><img src=\"https://colab.research.google.com/assets/colab-badge.svg\" alt=\"Open In Colab\"/></a>"
      ]
    },
    {
      "cell_type": "code",
      "execution_count": null,
      "metadata": {
        "colab": {
          "base_uri": "https://localhost:8080/"
        },
        "id": "L_Tvks0E3qJ7",
        "outputId": "0a2b495f-9015-42a9-d22e-d34d5a2755d2"
      },
      "outputs": [
        {
          "output_type": "stream",
          "name": "stdout",
          "text": [
            "Buddy says woof!\n",
            "Buddy\n",
            "3\n"
          ]
        }
      ],
      "source": [
        "# Simple class example\n",
        "class Dog:\n",
        "    def __init__(self, name, age): #this is a constructor\n",
        "        self.name = name\n",
        "        self.age = age\n",
        "        self.bark()\n",
        "\n",
        "    def bark(self):   # this is a method, with class as parameters\n",
        "        self.barks = True\n",
        "        print (f'{self.name} says woof!')\n",
        "\n",
        "# Creating an instance of the Dog class\n",
        "my_dog = Dog('Buddy', 3)\n",
        "print(my_dog.name)  # Output: Buddy\n",
        "print(my_dog.age)   # Output: 3\n",
        "#print(my_dog.bark())  # Output: Buddy says woof!"
      ]
    },
    {
      "cell_type": "code",
      "source": [
        "friends_dog = Dog('Julie',5)\n",
        "friends_dog.bark()\n",
        "friends_dog.barks()"
      ],
      "metadata": {
        "colab": {
          "base_uri": "https://localhost:8080/",
          "height": 211
        },
        "id": "YE-iwTZv6RPf",
        "outputId": "cf53dc0b-bd16-4f3b-878b-6a76dc9e6ff7"
      },
      "execution_count": null,
      "outputs": [
        {
          "output_type": "stream",
          "name": "stdout",
          "text": [
            "Julie says woof!\n",
            "Julie says woof!\n"
          ]
        },
        {
          "output_type": "error",
          "ename": "AttributeError",
          "evalue": "'Dog' object has no attribute 'barks'",
          "traceback": [
            "\u001b[0;31m---------------------------------------------------------------------------\u001b[0m",
            "\u001b[0;31mAttributeError\u001b[0m                            Traceback (most recent call last)",
            "\u001b[0;32m<ipython-input-9-bb876b9d0875>\u001b[0m in \u001b[0;36m<cell line: 0>\u001b[0;34m()\u001b[0m\n\u001b[1;32m      1\u001b[0m \u001b[0mfriends_dog\u001b[0m \u001b[0;34m=\u001b[0m \u001b[0mDog\u001b[0m\u001b[0;34m(\u001b[0m\u001b[0;34m'Julie'\u001b[0m\u001b[0;34m,\u001b[0m\u001b[0;36m5\u001b[0m\u001b[0;34m)\u001b[0m\u001b[0;34m\u001b[0m\u001b[0;34m\u001b[0m\u001b[0m\n\u001b[1;32m      2\u001b[0m \u001b[0mfriends_dog\u001b[0m\u001b[0;34m.\u001b[0m\u001b[0mbark\u001b[0m\u001b[0;34m(\u001b[0m\u001b[0;34m)\u001b[0m\u001b[0;34m\u001b[0m\u001b[0;34m\u001b[0m\u001b[0m\n\u001b[0;32m----> 3\u001b[0;31m \u001b[0mfriends_dog\u001b[0m\u001b[0;34m.\u001b[0m\u001b[0mbarks\u001b[0m\u001b[0;34m(\u001b[0m\u001b[0;34m)\u001b[0m\u001b[0;34m\u001b[0m\u001b[0;34m\u001b[0m\u001b[0m\n\u001b[0m",
            "\u001b[0;31mAttributeError\u001b[0m: 'Dog' object has no attribute 'barks'"
          ]
        }
      ]
    },
    {
      "cell_type": "code",
      "source": [
        "# Inheritance example\n",
        "class Animal:\n",
        "    def __init__(self, name):\n",
        "        self.name = name\n",
        "\n",
        "    def speak(self):\n",
        "        return f'{self.name} makes a sound'\n",
        "\n",
        "class Cat(Animal):\n",
        "    def __init__(self, name, color):\n",
        "        super().__init__(name)\n",
        "        self.color = color\n",
        "\n",
        "    def speak(self):\n",
        "        return f'{self.name} says meow'\n",
        "\n",
        "# Creating an instance of the Cat class\n",
        "my_cat = Cat('Whiskers', 'gray')\n",
        "print(my_cat.name)  # Output: Whiskers\n",
        "print(my_cat.color)  # Output: gray\n",
        "print(my_cat.speak())  # Output: Whiskers says meow"
      ],
      "metadata": {
        "colab": {
          "base_uri": "https://localhost:8080/"
        },
        "id": "DPUuFpYa9ptC",
        "outputId": "7c8c02b3-62f5-4f2a-fb18-2f687fdc305f"
      },
      "execution_count": null,
      "outputs": [
        {
          "output_type": "stream",
          "name": "stdout",
          "text": [
            "Whiskers\n",
            "gray\n",
            "Whiskers says meow\n"
          ]
        }
      ]
    },
    {
      "cell_type": "code",
      "source": [
        "def safe_divide(numerator, denominator):\n",
        "    try:\n",
        "        # Code that might cause an error\n",
        "        result = numerator / denominator\n",
        "        print(f\"Division successful: {numerator} / {denominator} = {result}\")\n",
        "    except ZeroDivisionError:\n",
        "        # Code to execute if a ZeroDivisionError occurs\n",
        "        print(f\"Error: Cannot divide {numerator} by zero!\")\n",
        "    except TypeError:\n",
        "        # You can catch multiple specific exceptions\n",
        "        print(\"Error: Please make sure both inputs are numbers.\")\n",
        "    except Exception as e: # Catch any other unexpected error\n",
        "        print(f\"An unexpected error occurred: {e}\")\n",
        "    print(\"--- End of division attempt ---\") # This line always runs after try/except\n",
        "\n",
        "safe_divide(10, 2)\n",
        "print(\"\\n\")\n",
        "safe_divide(10, 0) # This will trigger ZeroDivisionError\n",
        "print(\"\\n\")\n",
        "safe_divide(10, \"two\") # This will trigger TypeError\n",
        "print(\"\\n\")\n",
        "safe_divide(10, []) # This will trigger a different unexpected error (TypeError initially, but handled by general Exception)"
      ],
      "metadata": {
        "colab": {
          "base_uri": "https://localhost:8080/"
        },
        "id": "5kBeU8oSCCu-",
        "outputId": "076acbf9-da03-4893-e95c-d8e4eb22e94e"
      },
      "execution_count": null,
      "outputs": [
        {
          "output_type": "stream",
          "name": "stdout",
          "text": [
            "Division successful: 10 / 2 = 5.0\n",
            "--- End of division attempt ---\n",
            "\n",
            "\n",
            "Error: Cannot divide 10 by zero!\n",
            "--- End of division attempt ---\n",
            "\n",
            "\n",
            "Error: Please make sure both inputs are numbers.\n",
            "--- End of division attempt ---\n",
            "\n",
            "\n",
            "Error: Please make sure both inputs are numbers.\n",
            "--- End of division attempt ---\n"
          ]
        }
      ]
    },
    {
      "cell_type": "code",
      "source": [
        "# List examples\n",
        "fruits = ['apple', 'cherry', 'banana']\n",
        "print(fruits)\n",
        "\n",
        "# Append an item to the list\n",
        "fruits.append('orange')\n",
        "print(fruits)\n",
        "\n",
        "# Remove an item from the list\n",
        "fruits.remove('banana')\n",
        "print(fruits)\n",
        "\n",
        "# Accessing list elements\n",
        "print(fruits[0])  # first item\n",
        "print(fruits[-1]) # Last item"
      ],
      "metadata": {
        "colab": {
          "base_uri": "https://localhost:8080/"
        },
        "id": "a3ERljXSFl-f",
        "outputId": "8aca45fb-6f35-49b7-91a7-48448c3297be"
      },
      "execution_count": null,
      "outputs": [
        {
          "output_type": "stream",
          "name": "stdout",
          "text": [
            "['apple', 'cherry', 'banana']\n",
            "['apple', 'cherry', 'banana', 'orange']\n",
            "['apple', 'cherry', 'orange']\n",
            "apple\n",
            "orange\n"
          ]
        }
      ]
    },
    {
      "cell_type": "code",
      "source": [
        "# Slicing lists\n",
        "numbers = [0, 1, 2, 3, 4, 5, 6, 7, 8, 9]\n",
        "print(numbers[2:5])   # Elements from index 2 to 4\n",
        "print(numbers[:3])    # First three elements\n",
        "print(numbers[5:])    # Elements from index 5 to the end\n",
        "print(numbers[-3:])   # Last three elements\n",
        "\n",
        "# Slicing strings\n",
        "text = 'Hello, World!'\n",
        "print(text[7:12])    # Characters from index 7 to 11\n",
        "print(text[:5])      # First five characters\n",
        "print(text[7:])      # Characters from index 7 to the end\n",
        "print(text[-6:])     # Last six characters"
      ],
      "metadata": {
        "colab": {
          "base_uri": "https://localhost:8080/"
        },
        "id": "ngXxWcbriFEJ",
        "outputId": "c80ef666-4f08-48ba-a225-5fff590acdca"
      },
      "execution_count": null,
      "outputs": [
        {
          "output_type": "stream",
          "name": "stdout",
          "text": [
            "[2, 3, 4]\n",
            "[0, 1, 2]\n",
            "[5, 6, 7, 8, 9]\n",
            "[7, 8, 9]\n",
            "World\n",
            "Hello\n",
            "World!\n",
            "World!\n"
          ]
        }
      ]
    },
    {
      "cell_type": "code",
      "source": [
        "# Dictionary examples\n",
        "student = {\n",
        "    'name': 'Alice',\n",
        "    'age': 25,\n",
        "    'courses': ['Math', 'CompSci']\n",
        "}\n",
        "print(student)\n",
        "\n",
        "# Accessing dictionary values\n",
        "print(student['name'])\n",
        "print(student['age'])\n",
        "\n",
        "# Adding and updating dictionary values\n",
        "student['age'] = 26\n",
        "student['phone'] = '555-5555'\n",
        "print(student)"
      ],
      "metadata": {
        "id": "D_TFB1EdlmDs"
      },
      "execution_count": null,
      "outputs": []
    },
    {
      "cell_type": "code",
      "source": [
        "# 1. Define the Class: The blueprint for a Car\n",
        "\n",
        "class Car:\n",
        "    # Class-level attribute (shared by all Car objects)\n",
        "    # This might represent a constant, like the number of wheels a standard car has.\n",
        "    num_wheels = 4\n",
        "\n",
        "    # The __init__ method is a special method (a \"dunder\" method)\n",
        "    # It's called automatically when you create a new Car object.\n",
        "    # 'self' refers to the specific object being created/operated on.\n",
        "    def __init__(self, make, model, color):\n",
        "        # Attributes (instance variables)\n",
        "        # These store the unique data for each individual Car object.\n",
        "        self.make = make\n",
        "        self.model = model\n",
        "        self.color = color\n",
        "        self.speed = 0  # All new cars start with 0 speed\n",
        "        self.engine_on = False # All new cars start with engine off\n",
        "\n",
        "    # Methods: Actions that a Car object can perform\n",
        "\n",
        "    def start_engine(self):\n",
        "        if not self.engine_on:\n",
        "            self.engine_on = True\n",
        "            return f\"The {self.color} {self.make} {self.model} engine started.\"\n",
        "        else:\n",
        "            return f\"The {self.color} {self.make} {self.model} engine is already on.\"\n",
        "\n",
        "    def stop_engine(self):\n",
        "        if self.engine_on and self.speed == 0:\n",
        "            self.engine_on = False\n",
        "            return f\"The {self.color} {self.make} {self.model} engine stopped.\"\n",
        "        elif self.speed > 0:\n",
        "            return f\"Cannot stop engine! The {self.model} is still moving at {self.speed} mph.\"\n",
        "        else:\n",
        "            return f\"The {self.color} {self.make} {self.model} engine is already off.\"\n",
        "\n",
        "    def accelerate(self, amount):\n",
        "        if self.engine_on:\n",
        "            self.speed += amount\n",
        "            return f\"The {self.model} accelerated to {self.speed} mph.\"\n",
        "        else:\n",
        "            return \"Cannot accelerate, engine is off!\"\n",
        "\n",
        "    def brake(self, amount):\n",
        "        if self.speed - amount >= 0:\n",
        "            self.speed -= amount\n",
        "            return f\"The {self.model} slowed down to {self.speed} mph.\"\n",
        "        else:\n",
        "            self.speed = 0\n",
        "            return f\"The {self.model} came to a stop.\"\n",
        "\n",
        "    def get_info(self):\n",
        "        return (f\"This is a {self.color} {self.make} {self.model}.\"\n",
        "                f\" Current speed: {self.speed} mph. Engine: {'On' if self.engine_on else 'Off'}.\")\n",
        "\n",
        "\n",
        "# 2. Create Objects (Instances) from the Class\n",
        "\n",
        "# Creating the first Car object\n",
        "my_car = Car(\"Toyota\", \"Camry\", \"Blue\")\n",
        "\n",
        "# Creating a second Car object\n",
        "friends_car = Car(\"Honda\", \"Civic\", \"Red\")\n",
        "\n",
        "# Creating a third Car object\n",
        "dream_car = Car(\"Tesla\", \"Model S\", \"Black\")\n",
        "\n",
        "\n",
        "# 3. Interact with the Objects (Access Attributes and Call Methods)\n",
        "\n",
        "print(\"--- My Car ---\")\n",
        "print(my_car.get_info()) # Initial state\n",
        "print(my_car.start_engine())\n",
        "print(my_car.accelerate(50))\n",
        "print(my_car.brake(20))\n",
        "print(my_car.get_info())\n",
        "print(my_car.stop_engine()) # Cannot stop if moving\n",
        "print(my_car.brake(30)) # Stop completely\n",
        "print(my_car.stop_engine())\n",
        "print(f\"My car has {my_car.num_wheels} wheels.\") # Accessing class attribute\n",
        "\n",
        "\n",
        "print(\"\\n--- Friend's Car ---\")\n",
        "print(friends_car.get_info())\n",
        "print(friends_car.start_engine())\n",
        "print(friends_car.accelerate(60))\n",
        "print(friends_car.get_info())\n",
        "print(f\"Friend's car has {friends_car.num_wheels} wheels.\")\n",
        "\n",
        "\n",
        "print(\"\\n--- Dream Car ---\")\n",
        "print(dream_car.get_info())\n",
        "print(dream_car.start_engine())\n",
        "print(dream_car.accelerate(100))\n",
        "print(dream_car.get_info())\n",
        "\n",
        "\n",
        "# Demonstrate that objects are independent\n",
        "print(\"\\n--- Comparing Objects ---\")\n",
        "print(f\"My car's color: {my_car.color}\")\n",
        "print(f\"Friend's car's color: {friends_car.color}\")\n",
        "print(f\"Dream car's speed: {dream_car.speed}\")"
      ],
      "metadata": {
        "colab": {
          "base_uri": "https://localhost:8080/"
        },
        "id": "MXGD4zqVqMO9",
        "outputId": "6449aa9d-a590-4fb0-b6f0-722f33fab658"
      },
      "execution_count": null,
      "outputs": [
        {
          "output_type": "stream",
          "name": "stdout",
          "text": [
            "--- My Car ---\n",
            "This is a Blue Toyota Camry. Current speed: 0 mph. Engine: Off.\n",
            "The Blue Toyota Camry engine started.\n",
            "The Camry accelerated to 50 mph.\n",
            "The Camry slowed down to 30 mph.\n",
            "This is a Blue Toyota Camry. Current speed: 30 mph. Engine: On.\n",
            "Cannot stop engine! The Camry is still moving at 30 mph.\n",
            "The Camry slowed down to 0 mph.\n",
            "The Blue Toyota Camry engine stopped.\n",
            "My car has 4 wheels.\n",
            "\n",
            "--- Friend's Car ---\n",
            "This is a Red Honda Civic. Current speed: 0 mph. Engine: Off.\n",
            "The Red Honda Civic engine started.\n",
            "The Civic accelerated to 60 mph.\n",
            "This is a Red Honda Civic. Current speed: 60 mph. Engine: On.\n",
            "Friend's car has 4 wheels.\n",
            "\n",
            "--- Dream Car ---\n",
            "This is a Black Tesla Model S. Current speed: 0 mph. Engine: Off.\n",
            "The Black Tesla Model S engine started.\n",
            "The Model S accelerated to 100 mph.\n",
            "This is a Black Tesla Model S. Current speed: 100 mph. Engine: On.\n",
            "\n",
            "--- Comparing Objects ---\n",
            "My car's color: Blue\n",
            "Friend's car's color: Red\n",
            "Dream car's speed: 100\n"
          ]
        }
      ]
    },
    {
      "cell_type": "code",
      "source": [
        "class Employee:\n",
        "\n",
        "  def __init__(self,name,designation, asset):\n",
        "    self.name = name\n",
        "    self.designation = designation\n",
        "    self.asset = asset\n",
        "\n",
        "  def sayHello(self):\n",
        "    print(\"Welcome to my lib\")\n",
        "\n",
        "emp = Employee(\"Sathish Kesavalu\",\"CEO\",\"50 trillion Euros\")\n",
        "print(f\"My Name is {emp.name}, working as {emp.designation} has an asset of {emp.asset}\")\n",
        "\n",
        "emp = Employee(\"Vidhya\",\"Angel\",\"50 trillion Euros\")\n",
        "print(f\"My Name is {emp.name} and working as {emp.designation} has an asset of {emp.asset}\")\n",
        "\n",
        "emp.designation = \"Apsara\"\n",
        "print(f\"My Name is {emp.name} and working as {emp.designation} has an asset of {emp.asset}\")\n",
        "\n",
        "emp.sayHello()\n"
      ],
      "metadata": {
        "colab": {
          "base_uri": "https://localhost:8080/"
        },
        "id": "JX1ph5YqnvcT",
        "outputId": "96fa49a3-3d26-4663-e9d7-dfd2a913f00f"
      },
      "execution_count": null,
      "outputs": [
        {
          "output_type": "stream",
          "name": "stdout",
          "text": [
            "My Name is Sathish Kesavalu, working as CEO has an asset of 50 trillion Euros\n",
            "My Name is Vidhya and working as Angel has an asset of 50 trillion Euros\n",
            "My Name is Vidhya and working as Apsara has an asset of 50 trillion Euros\n",
            "Welcome to my lib\n"
          ]
        }
      ]
    },
    {
      "cell_type": "code",
      "source": [
        "class Bird:\n",
        "  def __init__(self):\n",
        "    print(\"Bird is ready\")\n",
        "\n",
        "  def who(self):\n",
        "    print(\"bird\")\n",
        "\n",
        "  def swim(self):\n",
        "    print(\"Swim Faster\")\n",
        "\n",
        "class Penquin(Bird):\n",
        "  def __init__(self):\n",
        "    super().__init__()\n",
        "    print(\"Penquin is ready\")\n",
        "\n",
        "  def who(self):\n",
        "    print (\"penquin\")\n",
        "\n",
        "  def run(self):\n",
        "    print (\"Run Faster\")\n",
        "\n",
        "test1 = Penquin()\n",
        "test1.who()\n",
        "test1.swim()\n",
        "\n",
        "# print (f\"{test1.who()}\")\n"
      ],
      "metadata": {
        "colab": {
          "base_uri": "https://localhost:8080/"
        },
        "id": "JXL5JREuZshF",
        "outputId": "2058a3e2-f0b7-4534-f35c-efcb49320038"
      },
      "execution_count": null,
      "outputs": [
        {
          "output_type": "stream",
          "name": "stdout",
          "text": [
            "Bird is ready\n",
            "Penquin is ready\n",
            "penquin\n",
            "Swim Faster\n"
          ]
        }
      ]
    },
    {
      "cell_type": "code",
      "source": [
        "class Computer:\n",
        "  def __init__ (self):\n",
        "    self.__maxprice= 500\n",
        "\n",
        "  def sell(self):\n",
        "    print(\"selling price is {} \".format(self.__maxprice))\n",
        "\n",
        "  def setMaxPrice(self,price):\n",
        "    self.__maxprice = price\n",
        "\n",
        "comp = Computer()\n",
        "comp.sell()\n",
        "\n",
        "#update the price\n",
        "\n",
        "comp.__maxprice = 1000\n",
        "comp.sell()\n",
        "\n",
        "#update the price - Right way\n",
        "comp.setMaxPrice(1000)\n",
        "comp.sell()"
      ],
      "metadata": {
        "colab": {
          "base_uri": "https://localhost:8080/"
        },
        "id": "aS4k5kBfD7uu",
        "outputId": "afabf88f-f7d6-46d8-c912-1c79277edac3"
      },
      "execution_count": null,
      "outputs": [
        {
          "output_type": "stream",
          "name": "stdout",
          "text": [
            "selling price is 500 \n",
            "selling price is 500 \n",
            "selling price is 1000 \n"
          ]
        }
      ]
    },
    {
      "cell_type": "code",
      "source": [
        "class Parrot:\n",
        "  def fly(self):\n",
        "    print(\"Parrots can fly\")\n",
        "\n",
        "  def swim(self):\n",
        "    print('Parrots cannot swim')\n",
        "\n",
        "class Penquin:\n",
        "  def fly(self):\n",
        "    print(\"Penquin cannot fly\")\n",
        "\n",
        "  def swim(self):\n",
        "    print('Penquin can swim')\n",
        "\n",
        "def talent(power):\n",
        "  power.fly()\n",
        "  power.swim()\n",
        "\n",
        "parrot = Parrot()\n",
        "penquin = Penquin()\n",
        "\n",
        "talent(penquin)\n"
      ],
      "metadata": {
        "colab": {
          "base_uri": "https://localhost:8080/"
        },
        "id": "18bwEfxQKgu2",
        "outputId": "4e828770-355b-4676-983d-f51e49962c3e"
      },
      "execution_count": null,
      "outputs": [
        {
          "output_type": "stream",
          "name": "stdout",
          "text": [
            "Penquin cannot fly\n",
            "Penquin can swim\n"
          ]
        }
      ]
    },
    {
      "cell_type": "code",
      "source": [
        "set1={2,5,3}\n",
        "set2={3,1}\n",
        "set3={}\n",
        "set3=set1&set2\n",
        "print(set3)"
      ],
      "metadata": {
        "colab": {
          "base_uri": "https://localhost:8080/"
        },
        "id": "MiuCmzFdYobN",
        "outputId": "db13d3d5-a336-45ef-d43a-b0b35d2169d3"
      },
      "execution_count": null,
      "outputs": [
        {
          "output_type": "stream",
          "name": "stdout",
          "text": [
            "{3}\n"
          ]
        }
      ]
    },
    {
      "cell_type": "code",
      "source": [
        "def compound_interest(principal,rate,time):\n",
        "    amount = (principal*(1 + rate) ** time) - principal\n",
        "    return amount;\n",
        "\n",
        "\n",
        "answer = compound_interest(1000,0.1,10)\n",
        "print (f\"The compound Interest is {answer}\")"
      ],
      "metadata": {
        "colab": {
          "base_uri": "https://localhost:8080/"
        },
        "id": "MbFPNR2N0l5X",
        "outputId": "8d6ae670-f19e-4b98-ec2b-ff68e54c69cd"
      },
      "execution_count": null,
      "outputs": [
        {
          "output_type": "stream",
          "name": "stdout",
          "text": [
            "The compound Interest is 1593.7424601000025\n"
          ]
        }
      ]
    },
    {
      "cell_type": "code",
      "source": [
        "def factorial(n):\n",
        "  total = 1\n",
        "  for fact in range(1, n+1):\n",
        "    total *= fact\n",
        "  return total\n",
        "\n",
        "print (factorial(5))\n"
      ],
      "metadata": {
        "colab": {
          "base_uri": "https://localhost:8080/"
        },
        "id": "zVNi07Q296Ns",
        "outputId": "d8c411d3-2058-407c-b37e-aaf4d2352e89"
      },
      "execution_count": null,
      "outputs": [
        {
          "output_type": "stream",
          "name": "stdout",
          "text": [
            "120\n"
          ]
        }
      ]
    },
    {
      "cell_type": "code",
      "source": [
        "def reverse_digits(number):\n",
        "    \"\"\"\n",
        "    Reverses the digits of a number.\n",
        "\n",
        "    Args:\n",
        "        number (int): The number to reverse.\n",
        "\n",
        "    Returns:\n",
        "        int: The number with its digits reversed.\n",
        "    \"\"\"\n",
        "    number = 123\n",
        "    sign = 1 if number >= 0 else -1  # Store the sign\n",
        "    number = abs(number)             # Work with the absolute value\n",
        "\n",
        "    reversed_number = 0\n",
        "    while number > 0:\n",
        "        reversed_number = (reversed_number * 10) + (number % 10)\n",
        "        number //= 10  # Integer division to remove the last digit\n",
        "\n",
        "    return sign * reversed_number"
      ],
      "metadata": {
        "id": "lRxulzLCEOGV"
      },
      "execution_count": null,
      "outputs": []
    },
    {
      "cell_type": "code",
      "source": [
        "def my_sum(*args):\n",
        "  total = 0\n",
        "  for num in args:\n",
        "    total += num\n",
        "  return total\n",
        "\n",
        "print(my_sum(1, 2, 3))      # Output: 6\n",
        "print(my_sum(10, 20, 30, 40)) # Output: 100\n",
        "print(my_sum())"
      ],
      "metadata": {
        "colab": {
          "base_uri": "https://localhost:8080/"
        },
        "id": "pkKh_uF56hB8",
        "outputId": "7453cd3c-bc8c-452a-84ad-bfe013a492eb"
      },
      "execution_count": null,
      "outputs": [
        {
          "output_type": "stream",
          "name": "stdout",
          "text": [
            "6\n",
            "100\n",
            "0\n"
          ]
        }
      ]
    },
    {
      "cell_type": "code",
      "source": [
        "def reverse_digits(number):\n",
        "    \"\"\"\n",
        "    Reverses the digits of a number.\n",
        "\n",
        "    Args:\n",
        "        number (int): The number to reverse.\n",
        "\n",
        "    Returns:\n",
        "        int: The number with its digits reversed.\n",
        "    \"\"\"\n",
        "    sign = 1 if number >= 0 else -1  # Store the sign\n",
        "    number = abs(number)             # Work with the absolute value\n",
        "\n",
        "    reversed_number = 0\n",
        "    while number > 0:\n",
        "        reversed_number = (reversed_number * 10) + (number % 10)\n",
        "        number //= 10  # Integer division to remove the last digit\n",
        "\n",
        "    return sign * reversed_number\n",
        "\n",
        "\n",
        "# Example usage:\n",
        "num1 = 45\n",
        "num2 = -123\n",
        "num3 = 67890\n",
        "\n",
        "print(reverse_digits(num1))  # Output: 54\n",
        "print(reverse_digits(num2))  # Output: -321\n",
        "print(reverse_digits(num3))  # Output: 9876"
      ],
      "metadata": {
        "colab": {
          "base_uri": "https://localhost:8080/"
        },
        "id": "VFessBAmEhbb",
        "outputId": "3448d87d-8475-4321-a6f6-e39188975a7b"
      },
      "execution_count": null,
      "outputs": [
        {
          "output_type": "stream",
          "name": "stdout",
          "text": [
            "54\n",
            "0\n",
            "9876\n"
          ]
        }
      ]
    },
    {
      "cell_type": "code",
      "source": [
        "number = 457\n",
        "number //= 10\n",
        "\n",
        "number"
      ],
      "metadata": {
        "colab": {
          "base_uri": "https://localhost:8080/"
        },
        "id": "L2M_WKd9c4dn",
        "outputId": "2fa0857a-4678-4e47-ba1d-368ac8c558bd"
      },
      "execution_count": null,
      "outputs": [
        {
          "output_type": "execute_result",
          "data": {
            "text/plain": [
              "45"
            ]
          },
          "metadata": {},
          "execution_count": 80
        }
      ]
    },
    {
      "cell_type": "code",
      "source": [
        "def reverse_number(number):\n",
        "    \"\"\"\n",
        "    Args:\n",
        "     n(int32)\n",
        "    Returns:\n",
        "     int32\n",
        "    \"\"\"\n",
        "    if number > 0:\n",
        "        sign = 1\n",
        "    else:\n",
        "        sign = -1\n",
        "\n",
        "    number = abs(number)\n",
        "\n",
        "    rev_number = 0\n",
        "    while number > 0:\n",
        "        rev_number = (rev_number * 10) + number % 10\n",
        "        number = number // 10\n",
        "\n",
        "    return sign * rev_number\n",
        "\n",
        "#numb1 = 123\n",
        "numb2 = -321\n",
        "#numb3 = 546908\n",
        "\n",
        "reverse_number(numb2)"
      ],
      "metadata": {
        "colab": {
          "base_uri": "https://localhost:8080/"
        },
        "id": "has36EeZkXpt",
        "outputId": "0b0d7e76-d973-46ce-b722-25a90daede0a"
      },
      "execution_count": null,
      "outputs": [
        {
          "output_type": "execute_result",
          "data": {
            "text/plain": [
              "-123"
            ]
          },
          "metadata": {},
          "execution_count": 102
        }
      ]
    },
    {
      "cell_type": "code",
      "source": [
        "p = [\"7823190130M7511\", \"6868346633F3422\", \"9921362780M5644\", \"9954362340M6707\"]\n",
        "\n",
        "for items in p:\n",
        "  age = int(items[11:13])\n",
        "count = 0\n",
        "if age > 60\n",
        "  count += 1\n",
        "age"
      ],
      "metadata": {
        "colab": {
          "base_uri": "https://localhost:8080/",
          "height": 35
        },
        "id": "czmGmX8Mp8bv",
        "outputId": "a35b8260-e3ff-4c79-abd3-3030f1c0d49d"
      },
      "execution_count": null,
      "outputs": [
        {
          "output_type": "execute_result",
          "data": {
            "text/plain": [
              "'67'"
            ],
            "application/vnd.google.colaboratory.intrinsic+json": {
              "type": "string"
            }
          },
          "metadata": {},
          "execution_count": 20
        }
      ]
    }
  ]
}